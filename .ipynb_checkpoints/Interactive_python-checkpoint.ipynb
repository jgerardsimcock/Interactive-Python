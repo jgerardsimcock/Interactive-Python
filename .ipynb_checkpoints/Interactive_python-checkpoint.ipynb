{
 "cells": [
  {
   "cell_type": "markdown",
   "metadata": {},
   "source": [
    "##Introduction"
   ]
  },
  {
   "cell_type": "code",
   "execution_count": 2,
   "metadata": {
    "collapsed": false
   },
   "outputs": [
    {
     "name": "stdout",
     "output_type": "stream",
     "text": [
      "['c', 'a', 't', 'd', 'o', 'g', 'r', 'b', 'i']\n"
     ]
    }
   ],
   "source": [
    "##iterate through a list of objects and check to see if one value is present in another list\n",
    "##if not present append value to empty list\n",
    "reducedList = []\n",
    "letterlist = ['c', 'a', 't', 'd', 'o', 'g', 'r', 'a', 'b', 'b', 'i', 't']\n",
    "\n",
    "\n",
    "for _ in letterlist:\n",
    "    if _ not in reducedList:\n",
    "        reducedList.append(_)\n",
    "print reducedList"
   ]
  },
  {
   "cell_type": "code",
   "execution_count": 1,
   "metadata": {
    "collapsed": false
   },
   "outputs": [
    {
     "name": "stdout",
     "output_type": "stream",
     "text": [
      "catdograbbit\n",
      "['c', 'a', 't', 'd', 'o', 'g', 'r', 'a', 'b', 'b', 'i', 't']\n",
      "set(['a', 'c', 'b', 'd', 'g', 'i', 'o', 'r', 't'])\n",
      "['c', 'a', 't', 'd', 'o', 'g', 'r', 'a', 'b', 'b', 'i', 't']\n"
     ]
    }
   ],
   "source": [
    "print \"\".join(['cat','dog','rabbit'])\n",
    "print [word[i] for word in ['cat','dog','rabbit'] for i in range(len(word))]\n",
    "#remove duplicates by creating a set\n",
    "print set([word[i] for word in ['cat','dog','rabbit'] for i in range(len(word))])\n",
    "print list([word[i] for word in ['cat','dog','rabbit'] for i in range(len(word))])\n"
   ]
  },
  {
   "cell_type": "markdown",
   "metadata": {},
   "source": [
    "##Defining Functions"
   ]
  },
  {
   "cell_type": "code",
   "execution_count": 24,
   "metadata": {
    "collapsed": false
   },
   "outputs": [
    {
     "name": "stdout",
     "output_type": "stream",
     "text": [
      "17.0000095367\n"
     ]
    }
   ],
   "source": [
    "#Lets look at Newtons Method\n",
    "#from __future__ import division\n",
    "def squareRoot(n):\n",
    "    root = n/2 #starting with n = 1 our root will be 1/2\n",
    "    for k in range(20):\n",
    "        root = (1/2)*(root + (n // root))\n",
    "    print root\n",
    "    \n",
    "squareRoot(300)"
   ]
  },
  {
   "cell_type": "markdown",
   "metadata": {},
   "source": [
    "#Infinite Monkey problem\n"
   ]
  },
  {
   "cell_type": "code",
   "execution_count": 20,
   "metadata": {
    "collapsed": false
   },
   "outputs": [
    {
     "name": "stdout",
     "output_type": "stream",
     "text": [
      "escpuyixdeu fqhky  ctccpdixp\n"
     ]
    }
   ],
   "source": [
    "import random \n",
    "\n",
    "char = \"abcdefghijklmnopqrstuvwxyz \"\n",
    "\n",
    "def generateString(strlen):\n",
    "    result = \"\"\n",
    "    for i in range(strlen):\n",
    "        result = result + char[random.randrange(27)] #accumulator Pattern\n",
    "    return result\n",
    "\n",
    "print generateString(28)"
   ]
  },
  {
   "cell_type": "markdown",
   "metadata": {},
   "source": [
    "##Generate Random Strings"
   ]
  },
  {
   "cell_type": "code",
   "execution_count": 143,
   "metadata": {
    "collapsed": false
   },
   "outputs": [
    {
     "data": {
      "text/plain": [
       "'yyk aStoyte'"
      ]
     },
     "execution_count": 143,
     "metadata": {},
     "output_type": "execute_result"
    }
   ],
   "source": [
    "phrase = \"Stay Stoked\"\n",
    "\n",
    "def stayStoked(phrase):\n",
    "    resultString = \"\"\n",
    "    for i in range(len(phrase)): \n",
    "        resultString = resultString + phrase[random.randrange(10)] #Accumulator Pattern\n",
    "    return resultString\n",
    "    \n",
    "stayStoked(phrase)  "
   ]
  },
  {
   "cell_type": "code",
   "execution_count": 113,
   "metadata": {
    "collapsed": false
   },
   "outputs": [
    {
     "name": "stdout",
     "output_type": "stream",
     "text": [
      "random.random(): 0.473313978864\n",
      "random.randrange(): 36\n",
      "random.uniform(1,10): 2.70165868366\n",
      "random.randint(1,10): 10\n",
      "random.choice('abcdfejgoijml'): g\n"
     ]
    },
    {
     "data": {
      "text/plain": [
       "[1, 7, 9, 4]"
      ]
     },
     "execution_count": 113,
     "metadata": {},
     "output_type": "execute_result"
    }
   ],
   "source": [
    "#Random module has several methods that can be called to generate psuedo random numbers\n",
    "\n",
    "#.random() will generate random number between 0 and 1\n",
    "print \"random.random():\", random.random()\n",
    "\n",
    "#random.range() will generate random number within a range\n",
    "print \"random.randrange():\", random.randrange(0,50)\n",
    "\n",
    "#random float from continuous line from 1-10\n",
    "print \"random.uniform(1,10):\", random.uniform(1,10)\n",
    "\n",
    "#random integer from 1-10\n",
    "print \"random.randint(1,10):\", random.randint(1,10)\n",
    "\n",
    "#random.choice chooses a random element from a string\n",
    "print \"random.choice('abcdfejgoijml'):\", random.choice(\"abcdfejgoijml\")\n",
    "\n",
    "#random.sample chooses a subset from a list \n",
    "random.sample([1,4,5,6,7,8,3,9], 4)"
   ]
  },
  {
   "cell_type": "markdown",
   "metadata": {},
   "source": [
    "##Score those strings vs some benchmark"
   ]
  },
  {
   "cell_type": "code",
   "execution_count": 26,
   "metadata": {
    "collapsed": false
   },
   "outputs": [
    {
     "data": {
      "text/plain": [
       "0.03571428571428571"
      ]
     },
     "execution_count": 26,
     "metadata": {},
     "output_type": "execute_result"
    }
   ],
   "source": [
    "from __future__ import division\n",
    "\n",
    "##the length of benchmark_string and test_string must be equal\n",
    "\n",
    "def scoring(benchmark_string, test_string): #the two values to compare will be taken as parameters\n",
    "    sameIndexValue = 0 #set a baseline value of zero\n",
    "    for i in range(len(benchmark_string)):#comparing values we need to iterate for defined number of times\n",
    "        if benchmark_string[i] == test_string[i]: #here we are comparing the values of each index position\n",
    "            sameIndexValue +=1 #Here is another version of the accumulator pattern\n",
    "                                #this time we are incrementing for each correct character\n",
    "    return (sameIndexValue / len(benchmark_string)) \n",
    "\n",
    "scoring(\"Methinks it is like a weasel\", generateString(28))"
   ]
  },
  {
   "cell_type": "code",
   "execution_count": 1,
   "metadata": {
    "collapsed": false
   },
   "outputs": [],
   "source": [
    "#This function will generate newstrings, compare them with the benchmark string and evaluate\n",
    "#if the benchmark beats a determined threshold it will print it\n",
    "#if not the function runs again, generating a new string and scoring it against a benchmark\n",
    "#it loops through this proces until the test_string meets the benchmark\n",
    "\n",
    "\n",
    "def main():\n",
    "    goalstring = \"Methinks it is like a weasel\" #this is our base to compare with\n",
    "    newstring = generateString(28) #this randomly generates a string \n",
    "    best = 0 #this is a score to benchmark new comparisons\n",
    "    newscore = scoring(goalstring, newstring) #generate a score for how the new string matches the goal string\n",
    "    \n",
    "    while newscore < 1: # keep running the function while the score is less than 1\n",
    "        if newscore > best: #however, we'd like to see how it improves, albeit randomly \n",
    "            print (goalstring, newstring) #print the strings that have the highest score\n",
    "            best = newscore #set the newscore to the best\n",
    "            \n",
    "        #this is an implicit else: \n",
    "        newstring = generateString(28) #generate a new string and run the function again\n",
    "        newscore = scoring(goalstring, newstring) #test the score to see how it compares\n",
    "            \n",
    "        \n",
    "#main()    "
   ]
  },
  {
   "cell_type": "markdown",
   "metadata": {},
   "source": [
    "##Defining Classes"
   ]
  },
  {
   "cell_type": "code",
   "execution_count": 52,
   "metadata": {
    "collapsed": false
   },
   "outputs": [
    {
     "name": "stdout",
     "output_type": "stream",
     "text": [
      "17/18\n",
      "False\n",
      "False\n",
      "17/18\n"
     ]
    }
   ],
   "source": [
    "#Here we need a helper function to find the greatest common denominator so we can divide through\n",
    "#This is known as Euclids algorithm\n",
    "def greatest_common_denominator(m,n):\n",
    "    while m%n != 0:\n",
    "        oldm = m\n",
    "        oldn = n\n",
    "\n",
    "        m = oldn\n",
    "        n = oldm%oldn\n",
    "    return n\n",
    "\n",
    "\n",
    "#every data object has a state and a set of methods that can be applied to the state of the data\n",
    "#through the use of classes we can modify, and create various methods to adjust state of the data\n",
    "#Constructor function allows you to determine how the data is created\n",
    "\n",
    "\n",
    "class Fraction:\n",
    "    \n",
    "    #Every class needs a constructor to define how data is created\n",
    "    #For our Fraction class we need a numerator and Denominator\n",
    "    #Fractions require two pieces of state data: top / bottom\n",
    "    def __init__(self,top, bottom):\n",
    "        \n",
    "        self.num = top\n",
    "        self.den = bottom\n",
    "    \n",
    "    ##this provides a method to show how to display the data in string format\n",
    "    def __str__(self):\n",
    "         return str(self.num) + \"/\" + str(self.den)\n",
    "        \n",
    "    ##this provides a method to do addition between two different pieces of data\n",
    "    ##with the help of the GCD helper function we can show the data in its LCD form\n",
    "    def __add__(self, other_fraction):\n",
    "        \n",
    "        new_num = self.num*other_fraction.den + other_fraction.num*self.den\n",
    "        new_den = self.den*other_fraction.den\n",
    "        common = greatest_common_denominator(new_num, new_den)\n",
    "        \n",
    "        return Fraction(new_num//common, new_den//common)\n",
    "    \n",
    "    def __sub__(self, other_fraction):\n",
    "        \n",
    "        new_num = self.num*other_fraction.den - other_fraction.num*self.den\n",
    "        new_den = self.den*other_fraction.den\n",
    "        common = greatest_common_denominator(new_num, new_den)\n",
    "        \n",
    "        return Fraction(new_num//common, new_den//common)\n",
    "    \n",
    "    def __mult__(self, other_fraction):\n",
    "        \n",
    "        new_num = self.num*other_fraction.num\n",
    "        new_den = self.den*other_fraction.num\n",
    "        common = greatest_common_denominator(new_num, new_den)\n",
    "        \n",
    "        return Fraction(new_num//common, new_den//common)\n",
    "    \n",
    "    def __truediv__(self,other_fraction):\n",
    "        \n",
    "        new_num = self.num*other_fraction.den\n",
    "        new_den = self.den*other_fraction.num\n",
    "        common = greatest_common_denominator(new_num, new_den)\n",
    "        \n",
    "        return Fraction(new_num//common, new_den//common)\n",
    "        \n",
    "    \n",
    "    #This allows us to check for equality\n",
    "    def __eq__(self, other_fraction):\n",
    "        \n",
    "        first_numerator = self.num*other_fraction.den\n",
    "        second_numerator = other_fraction.num*self.den\n",
    "        \n",
    "        ##Really what this returns is True or False. It compares whether or not there is equality\n",
    "        return first_numerator == second_numerator\n",
    "    \n",
    "    def __lt__(self, other_fraction):\n",
    "        \n",
    "        first_numerator = self.num*other_fraction.den\n",
    "        second_numerator = other_fraction.num*self.den\n",
    "        \n",
    "        ##Really what this returns is True or False. It compares whether or not there is equality\n",
    "        return first_numerator < second_numerator\n",
    "    \n",
    "    def __gt__(self, other_fraction):\n",
    "        \n",
    "        first_numerator = self.num*other_fraction.den\n",
    "        second_numerator = other_fraction.num*self.den\n",
    "        \n",
    "        ##Really what this returns is True or False. It compares whether or not there is equality\n",
    "        return first_numerator > second_numerator\n",
    "   \n",
    "\n",
    "        \n",
    "\n",
    "\n",
    "\n",
    "f1 = Fraction(4,9)\n",
    "f2 = Fraction(3,6)\n",
    "f3 = Fraction(2,7)\n",
    "#fraction3 = fraction1 + fraction2\n",
    "\n",
    "print (fraction1 + fraction2)\n",
    "print (fraction1 == fraction2)\n",
    "print(f3 > f2)\n",
    "print(f1+f2)"
   ]
  },
  {
   "cell_type": "markdown",
   "metadata": {},
   "source": [
    "##Logic Gate"
   ]
  },
  {
   "cell_type": "code",
   "execution_count": 89,
   "metadata": {
    "collapsed": false
   },
   "outputs": [],
   "source": [
    "class LogicGate:\n",
    "    #Constructor Function\n",
    "    def __init__(self,n):\n",
    "        \n",
    "        self.label = n\n",
    "        self.output = None\n",
    "        \n",
    "    def getLabel(self):\n",
    "        \n",
    "        return self.label\n",
    "    \n",
    "    def getOutput(self):\n",
    "        \n",
    "        self.output = self.performGateLogic()\n",
    "        return self.output\n",
    "\"\"\"   \n",
    "##BinaryGate is a subclass of LogicGate \n",
    "class BinaryGate(LogicGate):\n",
    "    #print \"this\"\n",
    "    #Constructor Function\n",
    "    def __init__(self,n):\n",
    "        ##as a subclass of LogicGate we need to initialize LogicGate within BinaryGate\n",
    "        #For this purpose we need the label which is a method for LogicGate\n",
    "\n",
    "        LogicGate.__init__(self,n)\n",
    "        self.pinA = None\n",
    "        self.pinB = None\n",
    "        \n",
    "    def getPinA(self):\n",
    "        if self.pinA == None:\n",
    "            return int(input(\"Enter Pin A input for gate \" + self.getLabl()+\"-->\"))\n",
    "        else:\n",
    "            return self.pinA.getFrom().getOutput()\n",
    "        \n",
    "    def getPinB(self):\n",
    "        if self.pinB == None:\n",
    "            return int(input(\"Enter Pin B input for gate \" + self.getLabel()+\"-->\"))\n",
    "        else:\n",
    "            return self.pinB.getFrom().getOutput()\n",
    "    \n",
    "    def setNextPin(self,source):\n",
    "        \n",
    "        if self.pinA == None:\n",
    "            self.pinA = source\n",
    "        else:\n",
    "            if self.pinB == None:\n",
    "                self.pinB = source\n",
    "                \n",
    "            else:\n",
    "                raise RuntimeError(\"ERROR: No Empty Pins\")\n",
    "\"\"\"\n",
    "                \n",
    "class BinaryGate(LogicGate):\n",
    "\n",
    "    def __init__(self,n):\n",
    "        LogicGate.__init__(self,n)\n",
    "\n",
    "        self.pinA = None\n",
    "        self.pinB = None\n",
    "\n",
    "    def getPinA(self):\n",
    "        if self.pinA == None:\n",
    "            return int(input(\"Enter Pin A input for gate \"+self.getLabel()+\"-->\"))\n",
    "        else:\n",
    "            return self.pinA.getFrom().getOutput()\n",
    "\n",
    "    def getPinB(self):\n",
    "        if self.pinB == None:\n",
    "            return int(input(\"Enter Pin B input for gate \"+self.getLabel()+\"-->\"))\n",
    "        else:\n",
    "            return self.pinB.getFrom().getOutput()\n",
    "\n",
    "    def setNextPin(self,source):\n",
    "        if self.pinA == None:\n",
    "            self.pinA = source\n",
    "        else:\n",
    "            if self.pinB == None:\n",
    "                self.pinB = source\n",
    "            else:\n",
    "                print(\"Cannot Connect: NO EMPTY PINS on this gate\")\n",
    "        \n",
    "\n",
    "class UnaryGate(LogicGate):\n",
    "    #Constructor Function\n",
    "    def __init(self,n):\n",
    "        #initialize data items from the parent LogicGate class. \n",
    "        #For this purpose we need the label which is a method for LogicGate\n",
    "        LogicGate.__init__(self,n)\n",
    "    \n",
    "        self.pin = None\n",
    "        \n",
    "    def getPin(self):\n",
    "        return int(input(\"Enter Pin input for gate\" + self.getLabel()+\"-->\"))\n",
    "    \n",
    "     \n",
    "    "
   ]
  },
  {
   "cell_type": "markdown",
   "metadata": {},
   "source": [
    "##Gates for specific types of Logic"
   ]
  },
  {
   "cell_type": "code",
   "execution_count": 99,
   "metadata": {
    "collapsed": false
   },
   "outputs": [],
   "source": [
    "\"\"\"\n",
    "class AndGate(BinaryGate):\n",
    "    #Constructor function to initialize itself\n",
    "    def __init__(self, n):\n",
    "        #inherent behaviors from parent class \n",
    "        BinaryGate.__init__(self,n)\n",
    "       \n",
    "    #We can describe the behavior that will run the specific logic for \"AND\" operations    \n",
    "    def performGateLogic(self):\n",
    "        \n",
    "        \n",
    "        a = self.getPinA()\n",
    "        b = self.getPinB()\n",
    "        \n",
    "        if a == 1 and b == 1: \n",
    "            return 1\n",
    "        else:\n",
    "            return 0\n",
    "\"\"\"\n",
    "\n",
    "\n",
    "class AndGate(BinaryGate):\n",
    "    \n",
    "    def __init__(self,n):\n",
    "        BinaryGate.__init__(self,n)\n",
    "\n",
    "    def performGateLogic(self):\n",
    "\n",
    "        a = self.getPinA()\n",
    "        b = self.getPinB()\n",
    "        if a==1 and b==1:\n",
    "            return 1\n",
    "        else:\n",
    "            return 0\n",
    "class OrGate(BinaryGate):\n",
    "    \n",
    "    #Constructor Function to initialize itself and the BinaryGate inheritance\n",
    "    \n",
    "    def __init__(self, n):\n",
    "        \n",
    "        BinaryGate.__init__(self,n)\n",
    "        \n",
    "    def performGateLogic(self):\n",
    "        \n",
    "        a = self.getPinA()\n",
    "        b = self.getPinB()\n",
    "        \n",
    "        if a == 1 or b == 1:\n",
    "            return 1\n",
    "        else:\n",
    "            return 0\n",
    "\n",
    "\n",
    "class NotGate(UnaryGate):\n",
    "    \n",
    "    #Constructor Function to initialize itself and the UnaryGate inheritance\n",
    "    \n",
    "    def __init__(self, n):\n",
    "        \n",
    "        UnaryGate.__init__(self,n)\n",
    "        \n",
    "    def performGateLogic(self):\n",
    "        \n",
    "        pin = self.getPin()\n",
    "        \n",
    "        if pin == 1: \n",
    "            return 0\n",
    "        else:\n",
    "            return 1"
   ]
  },
  {
   "cell_type": "code",
   "execution_count": 84,
   "metadata": {
    "collapsed": false
   },
   "outputs": [
    {
     "name": "stdout",
     "output_type": "stream",
     "text": [
      "Enter Pin input for gateStay Stoked-->1\n"
     ]
    },
    {
     "data": {
      "text/plain": [
       "0"
      ]
     },
     "execution_count": 84,
     "metadata": {},
     "output_type": "execute_result"
    }
   ],
   "source": [
    "g1 = NotGate(\"Stay Stoked\")\n",
    "g1.getOutput()"
   ]
  },
  {
   "cell_type": "markdown",
   "metadata": {},
   "source": [
    "##Connecting Logic Gates"
   ]
  },
  {
   "cell_type": "code",
   "execution_count": null,
   "metadata": {
    "collapsed": false
   },
   "outputs": [],
   "source": [
    "##Connecter's will use the LogicGate classes but will not be a part of the heirarchy\n",
    "\n",
    "class Connector:\n",
    "    \n",
    "    def __init__(self, fgate, tgate):\n",
    "        \n",
    "        self.fromgate = fgate\n",
    "        self.togate = tgate\n",
    "        \n",
    "        tgate.setNextPin(self)\n",
    "        \n",
    "    def getFrom(self):\n",
    "        return self.fromgate\n",
    "    \n",
    "    def getTo(self):\n",
    "        return self.togate\n"
   ]
  },
  {
   "cell_type": "code",
   "execution_count": 100,
   "metadata": {
    "collapsed": false
   },
   "outputs": [],
   "source": [
    "g1 = AndGate(\"G1\")\n",
    "g2 = AndGate(\"G2\")\n",
    "g3 = OrGate(\"G3\")\n",
    "g4 = NotGate(\"G4\")"
   ]
  },
  {
   "cell_type": "code",
   "execution_count": 93,
   "metadata": {
    "collapsed": false
   },
   "outputs": [],
   "source": [
    "class LogicGate:\n",
    "\n",
    "    def __init__(self,n):\n",
    "        self.name = n\n",
    "        self.output = None\n",
    "\n",
    "    def getName(self):\n",
    "        return self.name\n",
    "\n",
    "    def getOutput(self):\n",
    "        self.output = self.performGateLogic()\n",
    "        return self.output\n",
    "\n",
    "\n",
    "class BinaryGate(LogicGate):\n",
    "\n",
    "    def __init__(self,n):\n",
    "        LogicGate.__init__(self,n)\n",
    "\n",
    "        self.pinA = None\n",
    "        self.pinB = None\n",
    "\n",
    "    def getPinA(self):\n",
    "        if self.pinA == None:\n",
    "            return int(input(\"Enter Pin A input for gate \"+self.getName()+\"-->\"))\n",
    "        else:\n",
    "            return self.pinA.getFrom().getOutput()\n",
    "\n",
    "    def getPinB(self):\n",
    "        if self.pinB == None:\n",
    "            return int(input(\"Enter Pin B input for gate \"+self.getName()+\"-->\"))\n",
    "        else:\n",
    "            return self.pinB.getFrom().getOutput()\n",
    "\n",
    "    def setNextPin(self,source):\n",
    "        if self.pinA == None:\n",
    "            self.pinA = source\n",
    "        else:\n",
    "            if self.pinB == None:\n",
    "                self.pinB = source\n",
    "            else:\n",
    "                print(\"Cannot Connect: NO EMPTY PINS on this gate\")\n",
    "\n",
    "\n",
    "class AndGate(BinaryGate):\n",
    "\n",
    "    def __init__(self,n):\n",
    "        BinaryGate.__init__(self,n)\n",
    "\n",
    "    def performGateLogic(self):\n",
    "\n",
    "        a = self.getPinA()\n",
    "        b = self.getPinB()\n",
    "        if a==1 and b==1:\n",
    "            return 1\n",
    "        else:\n",
    "            return 0\n",
    "\n",
    "class OrGate(BinaryGate):\n",
    "\n",
    "    def __init__(self,n):\n",
    "        BinaryGate.__init__(self,n)\n",
    "\n",
    "    def performGateLogic(self):\n",
    "\n",
    "        a = self.getPinA()\n",
    "        b = self.getPinB()\n",
    "        if a ==1 or b==1:\n",
    "            return 1\n",
    "        else:\n",
    "            return 0\n",
    "\n",
    "class UnaryGate(LogicGate):\n",
    "\n",
    "    def __init__(self,n):\n",
    "        LogicGate.__init__(self,n)\n",
    "\n",
    "        self.pin = None\n",
    "\n",
    "    def getPin(self):\n",
    "        if self.pin == None:\n",
    "            return int(input(\"Enter Pin input for gate \"+self.getName()+\"-->\"))\n",
    "        else:\n",
    "            return self.pin.getFrom().getOutput()\n",
    "\n",
    "    def setNextPin(self,source):\n",
    "        if self.pin == None:\n",
    "            self.pin = source\n",
    "        else:\n",
    "            print(\"Cannot Connect: NO EMPTY PINS on this gate\")\n",
    "\n",
    "\n",
    "class NotGate(UnaryGate):\n",
    "\n",
    "    def __init__(self,n):\n",
    "        UnaryGate.__init__(self,n)\n",
    "\n",
    "    def performGateLogic(self):\n",
    "        if self.getPin():\n",
    "            return 0\n",
    "        else:\n",
    "            return 1\n",
    "\n",
    "\n",
    "class Connector:\n",
    "\n",
    "    def __init__(self, fgate, tgate):\n",
    "        self.fromgate = fgate\n",
    "        self.togate = tgate\n",
    "\n",
    "        tgate.setNextPin(self)\n",
    "\n",
    "    def getFrom(self):\n",
    "        return self.fromgate\n",
    "\n",
    "    def getTo(self):\n",
    "        return self.togate"
   ]
  },
  {
   "cell_type": "code",
   "execution_count": 96,
   "metadata": {
    "collapsed": false
   },
   "outputs": [
    {
     "name": "stdout",
     "output_type": "stream",
     "text": [
      "Enter Pin A input for gate G1-->0\n",
      "Enter Pin B input for gate G1-->0\n",
      "Enter Pin A input for gate G2-->6\n",
      "Enter Pin B input for gate G2-->1\n"
     ]
    },
    {
     "data": {
      "text/plain": [
       "1"
      ]
     },
     "execution_count": 96,
     "metadata": {},
     "output_type": "execute_result"
    }
   ],
   "source": [
    "g1 = AndGate(\"G1\")\n",
    "g2 = AndGate(\"G2\")\n",
    "g3 = OrGate(\"G3\")\n",
    "g4 = NotGate(\"G4\")\n",
    "\n",
    "c1 = Connector(g1,g3)\n",
    "c2 = Connector(g2,g3)\n",
    "c3 = Connector(g3,g4)\n",
    "\n",
    "g4.getOutput()"
   ]
  }
 ],
 "metadata": {
  "kernelspec": {
   "display_name": "Python 2",
   "language": "python",
   "name": "python2"
  },
  "language_info": {
   "codemirror_mode": {
    "name": "ipython",
    "version": 2
   },
   "file_extension": ".py",
   "mimetype": "text/x-python",
   "name": "python",
   "nbconvert_exporter": "python",
   "pygments_lexer": "ipython2",
   "version": "2.7.10"
  }
 },
 "nbformat": 4,
 "nbformat_minor": 0
}
